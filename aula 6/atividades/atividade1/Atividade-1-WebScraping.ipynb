{
 "cells": [
  {
   "cell_type": "code",
   "execution_count": 64,
   "metadata": {},
   "outputs": [],
   "source": [
    "# encoding: utf-8\n",
    "from bs4 import BeautifulSoup\n",
    "import requests\n",
    "import re\n",
    "import json"
   ]
  },
  {
   "cell_type": "code",
   "execution_count": null,
   "metadata": {},
   "outputs": [],
   "source": []
  },
  {
   "cell_type": "code",
   "execution_count": 65,
   "metadata": {},
   "outputs": [],
   "source": [
    "url = \"http://www.henancius.com/henancius/top100.html\"\n",
    "\n",
    "res = requests.get(url)\n",
    "\n",
    "soup = BeautifulSoup(res.text.encode('iso-8859-1'), \"html.parser\")"
   ]
  },
  {
   "cell_type": "code",
   "execution_count": 72,
   "metadata": {
    "scrolled": true
   },
   "outputs": [],
   "source": [
    "tableExtern = soup.find(\"div\", id=\"conteudo\")\n",
    "\n",
    "tableIntern = tableExtern.find_all(\"table\")[2]\n"
   ]
  },
  {
   "cell_type": "code",
   "execution_count": null,
   "metadata": {},
   "outputs": [],
   "source": []
  },
  {
   "cell_type": "code",
   "execution_count": 67,
   "metadata": {},
   "outputs": [],
   "source": [
    "filmes = {'ranking': []}"
   ]
  },
  {
   "cell_type": "code",
   "execution_count": null,
   "metadata": {},
   "outputs": [],
   "source": []
  },
  {
   "cell_type": "code",
   "execution_count": 69,
   "metadata": {},
   "outputs": [],
   "source": [
    "listTr = tableIntern.find_all('tr')\n",
    "\n",
    "for i in range(1, len(listTr) - 1 ):\n",
    "        listTd = listTr[i].find_all('td')\n",
    "        infoFilme = {}\n",
    "        infoFilme['Posição'] = int(listTd[0].text.replace('.', ''))\n",
    "        infoFilme['Nome'] = ' '.join(listTd[1].text.split())\n",
    "        infoFilme['Ano de Lançameto'] = int(listTd[2].text)\n",
    "        infoFilme['Arrecadação'] = int(listTd[3].text.replace('.', '') + \"00000\")\n",
    "        \n",
    "        filmes['ranking'].append(infoFilme)\n",
    "    \n",
    "     "
   ]
  },
  {
   "cell_type": "code",
   "execution_count": null,
   "metadata": {},
   "outputs": [],
   "source": []
  },
  {
   "cell_type": "code",
   "execution_count": 75,
   "metadata": {},
   "outputs": [],
   "source": [
    "with open('data/data.json', 'w') as outfile:\n",
    "    json.dump(filmes, outfile, indent=4, ensure_ascii=False)"
   ]
  },
  {
   "cell_type": "code",
   "execution_count": null,
   "metadata": {},
   "outputs": [],
   "source": []
  }
 ],
 "metadata": {
  "kernelspec": {
   "display_name": "Python 3",
   "language": "python",
   "name": "python3"
  },
  "language_info": {
   "codemirror_mode": {
    "name": "ipython",
    "version": 3
   },
   "file_extension": ".py",
   "mimetype": "text/x-python",
   "name": "python",
   "nbconvert_exporter": "python",
   "pygments_lexer": "ipython3",
   "version": "3.7.0"
  }
 },
 "nbformat": 4,
 "nbformat_minor": 2
}
